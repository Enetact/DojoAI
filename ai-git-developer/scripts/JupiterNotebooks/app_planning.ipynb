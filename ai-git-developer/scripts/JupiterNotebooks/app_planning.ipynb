{
 "cells": [
  {
   "cell_type": "code",
   "execution_count": null,
   "metadata": {
    "vscode": {
     "languageId": "plaintext"
    }
   },
   "outputs": [],
   "source": [
    "# Project Overview\n",
    "project_name = \"AI-Powered Ticketing System\"\n",
    "technologies = {\n",
    "    \"Frontend\": \"Angular\",\n",
    "    \"Backend\": \"Golang\",\n",
    "    \"Database\": \"PostgreSQL\",\n",
    "    \"Authentication\": \"Azure B2C\",\n",
    "    \"Vector Memory\": \"ChromaDB\",\n",
    "    \"CI/CD\": \"Local GitHub Actions\"\n",
    "}\n",
    "\n",
    "# Define Key Features\n",
    "features = [\n",
    "    \"User authentication & role management\",\n",
    "    \"Ticket creation, tracking, and resolution\",\n",
    "    \"Real-time notifications (WebSockets)\",\n",
    "    \"Admin dashboard with analytics\",\n",
    "    \"AI-driven predictive ticket resolution\"\n",
    "]\n",
    "\n",
    "# Define Folder Structure\n",
    "folder_structure = {\n",
    "    \"backend/\": [\"main.go\", \"auth.go\", \"db.go\"],\n",
    "    \"frontend/\": [\"src/components/\", \"src/services/\"],\n",
    "    \"database/\": [\"schema.sql\", \"migrations/\"],\n",
    "    \"ci_cd/\": [\".github/workflows/\"],\n",
    "}\n",
    "\n",
    "# Save Plan to Database\n",
    "import sqlite3\n",
    "conn = sqlite3.connect(\"C:\\\\DeepSeekAI\\\\ai-git-developer\\\\memory\\\\ai_memory.db\")\n",
    "cursor = conn.cursor()\n",
    "cursor.execute(\"INSERT INTO project_memory (prompt, response) VALUES (?, ?)\",\n",
    "               (\"Application Planning\", str(folder_structure)))\n",
    "conn.commit()\n",
    "conn.close()\n",
    "\n",
    "print(\" Project plan saved. Ready for development.\")\n"
   ]
  },
  {
   "cell_type": "code",
   "execution_count": null,
   "metadata": {
    "vscode": {
     "languageId": "plaintext"
    }
   },
   "outputs": [],
   "source": [
    "# Identify Integration Opportunities\n",
    "integration_opportunities = {\n",
    "    \"AI Chatbot for Support\": \"Automate user ticket handling with AI\",\n",
    "    \"Automated SLA Tracker\": \"Monitor ticket resolution times for compliance\",\n",
    "    \"Customer Feedback Analysis\": \"Analyze ticket feedback to improve service quality\"\n",
    "}\n",
    "\n",
    "# Store Integrations in Memory\n",
    "import sqlite3\n",
    "conn = sqlite3.connect(\"C:\\\\DeepSeekAI\\\\ai-git-developer\\\\memory\\\\ai_memory.db\")\n",
    "cursor = conn.cursor()\n",
    "cursor.execute(\"INSERT INTO project_memory (prompt, response) VALUES (?, ?)\", \n",
    "               (\"Integration Planning\", str(integration_opportunities)))\n",
    "conn.commit()\n",
    "conn.close()\n",
    "\n",
    "print(\"✅ Integration planning saved.\")\n"
   ]
  }
 ],
 "metadata": {
  "language_info": {
   "name": "python"
  }
 },
 "nbformat": 4,
 "nbformat_minor": 2
}
